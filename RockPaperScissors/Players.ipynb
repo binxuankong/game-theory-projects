{
 "cells": [
  {
   "cell_type": "markdown",
   "metadata": {},
   "source": [
    "### Type of Players\n",
    "* [Random Player](#random)\n",
    "* [Honest Player](#honest)\n",
    "* [Dishonest Player](#dishonest)"
   ]
  },
  {
   "cell_type": "code",
   "execution_count": 1,
   "metadata": {},
   "outputs": [],
   "source": [
    "from players import *\n",
    "from simulator import simulate_game"
   ]
  },
  {
   "cell_type": "markdown",
   "metadata": {},
   "source": [
    "### Random Player <a class=\"anchor\" id=\"random\"></a>\n",
    "\n",
    "Has random chance of claiming and choosing"
   ]
  },
  {
   "cell_type": "code",
   "execution_count": 2,
   "metadata": {},
   "outputs": [
    {
     "name": "stdout",
     "output_type": "stream",
     "text": [
      "Round 1\n",
      "Player 1 claims\t SCISSORS\n",
      "Player 2 claims\t ROCK\n",
      "Player 1 uses\t PAPER\n",
      "Player 2 uses\t SCISSORS\n",
      "Player 2 wins!\n",
      "\n",
      "Round 2\n",
      "Player 1 claims\t ROCK\n",
      "Player 2 claims\t SCISSORS\n",
      "Player 1 uses\t SCISSORS\n",
      "Player 2 uses\t SCISSORS\n",
      "It's a tie!\n",
      "\n",
      "Round 3\n",
      "Player 1 claims\t ROCK\n",
      "Player 2 claims\t SCISSORS\n",
      "Player 1 uses\t PAPER\n",
      "Player 2 uses\t ROCK\n",
      "Player 1 wins!\n",
      "\n",
      "Round 4\n",
      "Player 1 claims\t SCISSORS\n",
      "Player 2 claims\t ROCK\n",
      "Player 1 uses\t ROCK\n",
      "Player 2 uses\t ROCK\n",
      "It's a tie!\n",
      "\n",
      "Round 5\n",
      "Player 1 claims\t PAPER\n",
      "Player 2 claims\t ROCK\n",
      "Player 1 uses\t ROCK\n",
      "Player 2 uses\t ROCK\n",
      "It's a tie!\n",
      "\n",
      "Player 1 honesty grade: E\n",
      "Player 1 result: {'WIN': 1, 'TIE': 3, 'LOSE': 1}\n",
      "Player 2 honesty grade: B\n",
      "Player 2 result: {'WIN': 1, 'TIE': 3, 'LOSE': 1}\n"
     ]
    }
   ],
   "source": [
    "simulate_game(RandomPlayer(), RandomPlayer(), print_rounds=True)"
   ]
  },
  {
   "cell_type": "markdown",
   "metadata": {},
   "source": [
    "### Honest Player <a class=\"anchor\" id=\"honest\"></a>\n",
    "\n",
    "Honesty grade never falls below A. If lying does not affect honesty grade, has 50% chance to lie"
   ]
  },
  {
   "cell_type": "code",
   "execution_count": 3,
   "metadata": {},
   "outputs": [
    {
     "name": "stdout",
     "output_type": "stream",
     "text": [
      "Round 1\n",
      "Player 1 claims\t SCISSORS\n",
      "Player 2 claims\t PAPER\n",
      "Player 1 uses\t SCISSORS\n",
      "Player 2 uses\t ROCK\n",
      "Player 2 wins!\n",
      "\n",
      "Round 2\n",
      "Player 1 claims\t ROCK\n",
      "Player 2 claims\t ROCK\n",
      "Player 1 uses\t ROCK\n",
      "Player 2 uses\t SCISSORS\n",
      "Player 1 wins!\n",
      "\n",
      "Round 3\n",
      "Player 1 claims\t ROCK\n",
      "Player 2 claims\t SCISSORS\n",
      "Player 1 uses\t ROCK\n",
      "Player 2 uses\t PAPER\n",
      "Player 2 wins!\n",
      "\n",
      "Round 4\n",
      "Player 1 claims\t PAPER\n",
      "Player 2 claims\t SCISSORS\n",
      "Player 1 uses\t PAPER\n",
      "Player 2 uses\t ROCK\n",
      "Player 1 wins!\n",
      "\n",
      "Round 5\n",
      "Player 1 claims\t ROCK\n",
      "Player 2 claims\t ROCK\n",
      "Player 1 uses\t SCISSORS\n",
      "Player 2 uses\t SCISSORS\n",
      "It's a tie!\n",
      "\n",
      "Player 1 honesty grade: A\n",
      "Player 1 result: {'WIN': 2, 'TIE': 1, 'LOSE': 2}\n",
      "Player 2 honesty grade: E\n",
      "Player 2 result: {'WIN': 2, 'TIE': 1, 'LOSE': 2}\n"
     ]
    }
   ],
   "source": [
    "simulate_game(HonestPlayer(), RandomPlayer(), print_rounds=True)"
   ]
  },
  {
   "cell_type": "markdown",
   "metadata": {},
   "source": [
    "### Dishonest Player <a class=\"anchor\" id=\"dishonest\"></a>\n",
    "\n",
    "Honesty grade never goes above E. If not lying does not affect honesty grade, has 50% chance to lie"
   ]
  },
  {
   "cell_type": "code",
   "execution_count": 4,
   "metadata": {},
   "outputs": [
    {
     "name": "stdout",
     "output_type": "stream",
     "text": [
      "Round 1\n",
      "Player 1 claims\t SCISSORS\n",
      "Player 2 claims\t ROCK\n",
      "Player 1 uses\t ROCK\n",
      "Player 2 uses\t SCISSORS\n",
      "Player 1 wins!\n",
      "\n",
      "Round 2\n",
      "Player 1 claims\t SCISSORS\n",
      "Player 2 claims\t ROCK\n",
      "Player 1 uses\t PAPER\n",
      "Player 2 uses\t ROCK\n",
      "Player 1 wins!\n",
      "\n",
      "Round 3\n",
      "Player 1 claims\t ROCK\n",
      "Player 2 claims\t ROCK\n",
      "Player 1 uses\t SCISSORS\n",
      "Player 2 uses\t PAPER\n",
      "Player 1 wins!\n",
      "\n",
      "Round 4\n",
      "Player 1 claims\t ROCK\n",
      "Player 2 claims\t ROCK\n",
      "Player 1 uses\t SCISSORS\n",
      "Player 2 uses\t SCISSORS\n",
      "It's a tie!\n",
      "\n",
      "Round 5\n",
      "Player 1 claims\t ROCK\n",
      "Player 2 claims\t PAPER\n",
      "Player 1 uses\t PAPER\n",
      "Player 2 uses\t ROCK\n",
      "Player 1 wins!\n",
      "\n",
      "Player 1 honesty grade: E\n",
      "Player 1 result: {'WIN': 4, 'TIE': 1, 'LOSE': 0}\n",
      "Player 2 honesty grade: D\n",
      "Player 2 result: {'WIN': 0, 'TIE': 1, 'LOSE': 4}\n"
     ]
    }
   ],
   "source": [
    "simulate_game(DishonestPlayer(), RandomPlayer(), print_rounds=True)"
   ]
  }
 ],
 "metadata": {
  "kernelspec": {
   "display_name": "Python 3",
   "language": "python",
   "name": "python3"
  },
  "language_info": {
   "codemirror_mode": {
    "name": "ipython",
    "version": 3
   },
   "file_extension": ".py",
   "mimetype": "text/x-python",
   "name": "python",
   "nbconvert_exporter": "python",
   "pygments_lexer": "ipython3",
   "version": "3.8.5"
  }
 },
 "nbformat": 4,
 "nbformat_minor": 4
}
